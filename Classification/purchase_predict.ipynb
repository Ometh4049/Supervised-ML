{
 "cells": [
  {
   "cell_type": "code",
   "execution_count": 4,
   "id": "3e03b565-b443-4d1d-9d8d-697e85d8fd88",
   "metadata": {},
   "outputs": [
    {
     "name": "stdout",
     "output_type": "stream",
     "text": [
      "File loaded successfully. DataFrame head:\n",
      "   Age  Estimated_Salary  Previous_Purchases  Purchased\n",
      "0   25             55000                   2          0\n",
      "1   35             75000                   5          1\n",
      "2   42             60000                   1          0\n",
      "3   28             80000                   8          1\n",
      "4   55            120000                  10          1\n"
     ]
    }
   ],
   "source": [
    "# Cell 1: Imports and Data Loading\n",
    "import pandas as pd\n",
    "import numpy as np\n",
    "import matplotlib.pyplot as plt\n",
    "\n",
    "\n",
    "# Data Pre-processing\n",
    "from sklearn.model_selection import train_test_split\n",
    "from sklearn.preprocessing import StandardScaler\n",
    "\n",
    "# Model Training\n",
    "from sklearn.linear_model import LogisticRegression\n",
    "\n",
    "# Model Evaluation\n",
    "from sklearn.metrics import accuracy_score, classification_report, confusion_matrix\n",
    "\n",
    "# Read the CSV file (make sure the file is in the same folder as your notebook)\n",
    "df = pd.read_csv(\"customer_purchases.csv\")\n",
    "\n",
    "print(\"File loaded successfully. DataFrame head:\")\n",
    "print(df.head())\n"
   ]
  },
  {
   "cell_type": "code",
   "execution_count": 6,
   "id": "6e5e3542-4189-4d09-91a6-9be770feb7ec",
   "metadata": {},
   "outputs": [
    {
     "name": "stdout",
     "output_type": "stream",
     "text": [
      "\n",
      "--- Data Types ---\n",
      "Age                   int64\n",
      "Estimated_Salary      int64\n",
      "Previous_Purchases    int64\n",
      "Purchased             int64\n",
      "dtype: object\n",
      "\n",
      "--- Missing Values ---\n",
      "Age                   0\n",
      "Estimated_Salary      0\n",
      "Previous_Purchases    0\n",
      "Purchased             0\n",
      "dtype: int64\n",
      "\n",
      "--- Feature and Target Shapes ---\n",
      "Features (X) shape: (30, 3)\n",
      "Target (y) shape: (30,)\n"
     ]
    }
   ],
   "source": [
    "# Cell 2: Data Inspection and Preparation\n",
    "if df is not None:\n",
    "    print(\"\\n--- Data Types ---\")\n",
    "    print(df.dtypes)\n",
    "\n",
    "    print(\"\\n--- Missing Values ---\")\n",
    "    print(df.isnull().sum())\n",
    "\n",
    "    # Define features (X) and target (y)\n",
    "    # This assumes 'Purchased' is the target column.\n",
    "    X = df.drop('Purchased', axis=1)\n",
    "    y = df['Purchased']\n",
    "\n",
    "    print(\"\\n--- Feature and Target Shapes ---\")\n",
    "    print(\"Features (X) shape:\", X.shape)\n",
    "    print(\"Target (y) shape:\", y.shape)\n",
    "\n",
    "# ---"
   ]
  },
  {
   "cell_type": "code",
   "execution_count": 8,
   "id": "9ea585a9-f1cb-41ff-ab09-f63fad2d83cf",
   "metadata": {},
   "outputs": [
    {
     "name": "stdout",
     "output_type": "stream",
     "text": [
      "\n",
      "--- Shapes after Splitting ---\n",
      "X_train shape: (24, 3)\n",
      "X_test shape: (6, 3)\n"
     ]
    }
   ],
   "source": [
    "# Cell 3: Train-Test Split\n",
    "if 'X' in locals():\n",
    "    # Split data into training and testing sets\n",
    "    # It's good practice to use 'stratify=y' in classification to maintain the same\n",
    "    # proportion of target classes in both the train and test sets.\n",
    "    X_train, X_test, y_train, y_test = train_test_split(\n",
    "        X, y, test_size=0.2, random_state=42, stratify=y\n",
    "    )\n",
    "\n",
    "    print(\"\\n--- Shapes after Splitting ---\")\n",
    "    print(\"X_train shape:\", X_train.shape)\n",
    "    print(\"X_test shape:\", X_test.shape)\n",
    "\n",
    "# ---"
   ]
  },
  {
   "cell_type": "code",
   "execution_count": 9,
   "id": "1c494699-0030-4681-b03e-112cf84b34a5",
   "metadata": {},
   "outputs": [
    {
     "name": "stdout",
     "output_type": "stream",
     "text": [
      "\n",
      "--- Data after Scaling (first 5 training samples) ---\n",
      "[[-0.05439426  0.1094913   0.4178784 ]\n",
      " [ 1.45190826  1.40377656  1.59777035]\n",
      " [-0.8577556  -1.06713166 -1.05698654]\n",
      " [ 0.24686625  0.50169896  0.71285139]\n",
      " [-0.8577556   0.03104977  0.71285139]]\n"
     ]
    }
   ],
   "source": [
    "# Cell 4: Feature Scaling\n",
    "if 'X_train' in locals():\n",
    "    # Initialize the scaler\n",
    "    scaler = StandardScaler()\n",
    "\n",
    "    # Fit the scaler ONLY on the training data and transform it\n",
    "    X_train_scaled = scaler.fit_transform(X_train)\n",
    "\n",
    "    # Use the SAME fitted scaler to transform the test data\n",
    "    X_test_scaled = scaler.transform(X_test)\n",
    "\n",
    "    print(\"\\n--- Data after Scaling (first 5 training samples) ---\")\n",
    "    print(X_train_scaled[:5])\n",
    "\n",
    "# ---"
   ]
  },
  {
   "cell_type": "code",
   "execution_count": 10,
   "id": "a29408bd-055c-45db-be79-5091c2e8313d",
   "metadata": {},
   "outputs": [
    {
     "name": "stdout",
     "output_type": "stream",
     "text": [
      "\n",
      "Model training complete.\n"
     ]
    }
   ],
   "source": [
    "# Cell 5: Model Training\n",
    "if 'X_train_scaled' in locals():\n",
    "    # Initialize and train the Logistic Regression model\n",
    "    model = LogisticRegression(max_iter=1000, random_state=42)\n",
    "    model.fit(X_train_scaled, y_train)\n",
    "    print(\"\\nModel training complete.\")\n",
    "\n",
    "# ---"
   ]
  },
  {
   "cell_type": "code",
   "execution_count": 11,
   "id": "40d3547b-50aa-437f-b902-db503bffff0a",
   "metadata": {},
   "outputs": [
    {
     "name": "stdout",
     "output_type": "stream",
     "text": [
      "\n",
      "Model Accuracy: 1.0000\n",
      "\n",
      "--- Classification Report ---\n",
      "              precision    recall  f1-score   support\n",
      "\n",
      "           0       1.00      1.00      1.00         3\n",
      "           1       1.00      1.00      1.00         3\n",
      "\n",
      "    accuracy                           1.00         6\n",
      "   macro avg       1.00      1.00      1.00         6\n",
      "weighted avg       1.00      1.00      1.00         6\n",
      "\n",
      "\n",
      "--- Confusion Matrix ---\n",
      "[[3 0]\n",
      " [0 3]]\n"
     ]
    }
   ],
   "source": [
    "# Cell 6: Model Evaluation\n",
    "if 'model' in locals():\n",
    "    # Make predictions on the scaled test data\n",
    "    y_pred = model.predict(X_test_scaled)\n",
    "\n",
    "    # Calculate and print the accuracy\n",
    "    accuracy = accuracy_score(y_test, y_pred)\n",
    "    print(f\"\\nModel Accuracy: {accuracy:.4f}\")\n",
    "\n",
    "    # Print a detailed classification report\n",
    "    print(\"\\n--- Classification Report ---\")\n",
    "    print(classification_report(y_test, y_pred))\n",
    "\n",
    "    # Display the confusion matrix\n",
    "    print(\"\\n--- Confusion Matrix ---\")\n",
    "    cm = confusion_matrix(y_test, y_pred)\n",
    "    print(cm)\n",
    "\n",
    "# ---"
   ]
  },
  {
   "cell_type": "code",
   "execution_count": 12,
   "id": "0dadb14e-41cc-48ee-b2d3-fe9f90982797",
   "metadata": {},
   "outputs": [
    {
     "name": "stdout",
     "output_type": "stream",
     "text": [
      "\n",
      "Inference functions are ready.\n"
     ]
    }
   ],
   "source": [
    "# Cell 7: Inference Functions\n",
    "if 'model' in locals():\n",
    "    def predict_purchase(sample_dict, trained_model, fitted_scaler):\n",
    "        \"\"\"\n",
    "        Predicts customer purchase for a single sample.\n",
    "        Args:\n",
    "            sample_dict (dict): A dictionary with feature names as keys.\n",
    "            trained_model: The trained machine learning model.\n",
    "            fitted_scaler: The StandardScaler object fitted on the training data.\n",
    "        Returns:\n",
    "            dict: A dictionary with the prediction and probability.\n",
    "        \"\"\"\n",
    "        # Convert the dictionary to a DataFrame with the correct column order\n",
    "        sample_df = pd.DataFrame([sample_dict])[X.columns] # Ensures column order\n",
    "\n",
    "        # Scale the sample using the fitted scaler\n",
    "        sample_scaled = fitted_scaler.transform(sample_df)\n",
    "\n",
    "        # Make prediction and get probabilities\n",
    "        prediction = trained_model.predict(sample_scaled)[0]\n",
    "        probability = trained_model.predict_proba(sample_scaled)[0][1]\n",
    "\n",
    "        return {\n",
    "            'prediction': int(prediction),\n",
    "            'probability_of_purchase': round(probability, 4)\n",
    "        }\n",
    "\n",
    "    def predict_batch(df_batch, trained_model, fitted_scaler):\n",
    "        \"\"\"\n",
    "        Predicts customer purchase for a batch of samples in a DataFrame.\n",
    "        \"\"\"\n",
    "        # Ensure the batch DataFrame has the correct column order\n",
    "        df_batch_ordered = df_batch[X.columns]\n",
    "\n",
    "        # Scale the features\n",
    "        batch_scaled = fitted_scaler.transform(df_batch_ordered)\n",
    "\n",
    "        # Get predictions and probabilities\n",
    "        predictions = trained_model.predict(batch_scaled)\n",
    "        probabilities = trained_model.predict_proba(batch_scaled)[:, 1]\n",
    "\n",
    "        # Add results to the original DataFrame\n",
    "        result_df = df_batch.copy()\n",
    "        result_df['prediction'] = predictions.astype(int)\n",
    "        result_df['probability_of_purchase'] = np.round(probabilities, 4)\n",
    "        return result_df\n",
    "\n",
    "    print(\"\\nInference functions are ready.\")\n",
    "\n",
    "\n"
   ]
  },
  {
   "cell_type": "code",
   "execution_count": 13,
   "id": "76136e12-b87d-4ce7-af58-5efe503bcf90",
   "metadata": {},
   "outputs": [
    {
     "name": "stdout",
     "output_type": "stream",
     "text": [
      "\n",
      "--- Single Sample Inference Example ---\n",
      "Prediction for sample {'Age': 36, 'Estimated_Salary': 82000, 'Previous_Purchases': 7}: {'prediction': 1, 'probability_of_purchase': np.float64(0.8244)}\n",
      "\n",
      "--- Batch Inference Example ---\n",
      "    Age  Estimated_Salary  Previous_Purchases  prediction  \\\n",
      "24   23             35000                   0           0   \n",
      "13   33             78000                   5           1   \n",
      "14   26             48000                   2           0   \n",
      "\n",
      "    probability_of_purchase  \n",
      "24                   0.0114  \n",
      "13                   0.5667  \n",
      "14                   0.0563  \n"
     ]
    }
   ],
   "source": [
    "    # --- Example Usage ---\n",
    "    print(\"\\n--- Single Sample Inference Example ---\")\n",
    "    example_sample = {'Age': 36, 'Estimated_Salary': 82000, 'Previous_Purchases': 7}\n",
    "    single_result = predict_purchase(example_sample, model, scaler)\n",
    "    print(f\"Prediction for sample {example_sample}: {single_result}\")\n",
    "\n",
    "    print(\"\\n--- Batch Inference Example ---\")\n",
    "    # Use the original, unscaled X_test for this example\n",
    "    batch_df = X_test.head(3).copy()\n",
    "    batch_results = predict_batch(batch_df, model, scaler)\n",
    "    print(batch_results)"
   ]
  }
 ],
 "metadata": {
  "kernelspec": {
   "display_name": "Python 3 (ipykernel)",
   "language": "python",
   "name": "python3"
  },
  "language_info": {
   "codemirror_mode": {
    "name": "ipython",
    "version": 3
   },
   "file_extension": ".py",
   "mimetype": "text/x-python",
   "name": "python",
   "nbconvert_exporter": "python",
   "pygments_lexer": "ipython3",
   "version": "3.13.3"
  }
 },
 "nbformat": 4,
 "nbformat_minor": 5
}
